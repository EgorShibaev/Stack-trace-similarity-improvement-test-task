{
 "cells": [
  {
   "cell_type": "code",
   "execution_count": 1,
   "metadata": {},
   "outputs": [],
   "source": [
    "path_to_repo = \"./sample_java_repo/csc-java-course-spring-2023-key-value-store-EgorShibaev/\""
   ]
  },
  {
   "cell_type": "code",
   "execution_count": 2,
   "metadata": {},
   "outputs": [],
   "source": [
    "import os\n",
    "import javalang\n",
    "\n",
    "def extract_all_methods_from_repo(path_to_repo):\n",
    "    \"\"\"\n",
    "    Extracts all methods from the file content\n",
    "    :param path_to_repo: string\n",
    "    :return: list of strings\n",
    "    \"\"\"\n",
    "\n",
    "    methods_in_repo = {}\n",
    "\n",
    "    path_to_files = os.path.join(path_to_repo, \"src\", \"main\", \"java\")\n",
    "\n",
    "    # walk through the files\n",
    "    for root, _, files in os.walk(path_to_files):\n",
    "        for file in files:\n",
    "            if file.endswith(\".java\"):\n",
    "                # read the file\n",
    "                with open(os.path.join(root, file), \"r\", encoding=\"utf8\") as f:\n",
    "                    file_content = f.read()\n",
    "\n",
    "                # extract all methods\n",
    "                methods = extract_all_methods_from_file(file_content)\n",
    "\n",
    "                if len(methods) > 0:\n",
    "                    methods_in_repo[file] = methods\n",
    "\n",
    "    return methods_in_repo\n",
    "\n",
    "\n",
    "def extract_code_block(code: str, start_position: int) -> str:\n",
    "    \"\"\"\n",
    "    Extracts the code block starting at the given position according to the opening and closing braces\n",
    "    :param code: Java or Kotlin code\n",
    "    :param start_position: position of the opening brace of the code block\n",
    "    :return: code block and end position of the code block\n",
    "    \"\"\"\n",
    "    open_braces = 0\n",
    "    code_block_start = start_position\n",
    "    code_block_end = -1\n",
    "\n",
    "    for i in range(start_position, len(code)):\n",
    "        if code[i] == \"{\":\n",
    "            open_braces += 1\n",
    "        elif code[i] == \"}\":\n",
    "            open_braces -= 1\n",
    "            if open_braces == 0:\n",
    "                code_block_end = i + 1\n",
    "                break\n",
    "\n",
    "    if code_block_end == -1:\n",
    "        return None\n",
    "\n",
    "    while code[code_block_start] == \"\\n\":\n",
    "        code_block_start += 1\n",
    "\n",
    "    return code[code_block_start:code_block_end], code_block_end\n",
    "\n",
    "\n",
    "\n",
    "def extract_all_methods_from_file(java_source: str) -> str | None:\n",
    "    \"\"\"\n",
    "    This function extracts the code of the method with the\n",
    "    given name and class from the Java source code\n",
    "    :param java_source: Java source code\n",
    "    :param class_name: name of the class\n",
    "    :param method_name: name of the method\n",
    "    :return: code of the method\n",
    "    \"\"\"\n",
    "    tree = javalang.parse.parse(java_source)\n",
    "\n",
    "    methods = []\n",
    "\n",
    "    for _, node in tree.filter(javalang.tree.MethodDeclaration):\n",
    "        start_line = node.position.line - 1\n",
    "        start_position = sum(len(line) + 1 for line in java_source.splitlines()[:start_line]) \\\n",
    "                            + node.position.column - 1\n",
    "        code_block = extract_code_block(java_source, start_position)\n",
    "        if code_block is not None:\n",
    "            methods.append(code_block[0])\n",
    "\n",
    "    return methods"
   ]
  },
  {
   "cell_type": "code",
   "execution_count": 3,
   "metadata": {},
   "outputs": [],
   "source": [
    "methods_in_files = extract_all_methods_from_repo(path_to_repo) "
   ]
  },
  {
   "cell_type": "code",
   "execution_count": 4,
   "metadata": {},
   "outputs": [
    {
     "name": "stdout",
     "output_type": "stream",
     "text": [
      "File: ByteWrapper.java\n",
      "Nuber of methods:  5\n",
      "File: FileBlockLocation.java\n",
      "Nuber of methods:  2\n",
      "File: IndexManagerImplementation.java\n",
      "Nuber of methods:  4\n",
      "File: KeyValueStoreFactory.java\n",
      "Nuber of methods:  1\n",
      "File: KeyValueStoreImplementation.java\n",
      "Nuber of methods:  8\n",
      "File: ValueStoreManagerImplementation.java\n",
      "Nuber of methods:  5\n"
     ]
    }
   ],
   "source": [
    "for file, methods in methods_in_files.items():\n",
    "    print(f\"File: {file}\")\n",
    "    print(\"Nuber of methods: \", len(methods))"
   ]
  },
  {
   "cell_type": "code",
   "execution_count": 5,
   "metadata": {},
   "outputs": [
    {
     "name": "stderr",
     "output_type": "stream",
     "text": [
      "Special tokens have been added in the vocabulary, make sure the associated word embeddings are fine-tuned or trained.\n"
     ]
    }
   ],
   "source": [
    "from transformers import AutoTokenizer, AutoModel\n",
    "\n",
    "tokenizer = AutoTokenizer.from_pretrained(\"microsoft/CodeGPT-small-java-adaptedGPT2\")\n",
    "model = AutoModel.from_pretrained(\"microsoft/CodeGPT-small-java-adaptedGPT2\")"
   ]
  },
  {
   "cell_type": "code",
   "execution_count": 6,
   "metadata": {},
   "outputs": [],
   "source": [
    "import numpy as np\n",
    "\n",
    "X = [tokenizer(method, return_tensors='pt') for _, methods in methods_in_files.items() for method in methods]\n",
    "y = np.array([i for i, (_, methods) in enumerate(methods_in_files.items()) for _ in range(len(methods))])"
   ]
  },
  {
   "cell_type": "markdown",
   "metadata": {},
   "source": [
    "Heatmap shows pairwise similarity between methods"
   ]
  },
  {
   "cell_type": "code",
   "execution_count": 7,
   "metadata": {},
   "outputs": [
    {
     "data": {
      "image/png": "[encoded data removed]",
      "text/plain": [
       "<Figure size 640x480 with 2 Axes>"
      ]
     },
     "metadata": {},
     "output_type": "display_data"
    }
   ],
   "source": [
    "from torch.nn.functional import cosine_similarity\n",
    "\n",
    "def show_heatmap(X, y, model):\n",
    "    embeddings = [\n",
    "        model(**(X[i])).last_hidden_state.mean(dim=1) for i in range(len(X))\n",
    "    ]\n",
    "\n",
    "    similarities = [\n",
    "        [cosine_similarity(emb1, emb2).item() for emb2 in embeddings] for emb1 in embeddings\n",
    "    ]\n",
    "\n",
    "    # show the similarity matrix as a heatmap\n",
    "    import seaborn as sns\n",
    "    import matplotlib.pyplot as plt\n",
    "\n",
    "    sns.heatmap(similarities, xticklabels=y, yticklabels=y)\n",
    "    plt.show()\n",
    "\n",
    "show_heatmap(X, y, model)"
   ]
  },
  {
   "cell_type": "markdown",
   "metadata": {},
   "source": [
    "Firstly, I am trying the approach when the loss is calculated concerning each pair of methods. Cosine similarity belongs to segment [-1; +1], so we can use binary cross entropy loss after adding 1 and dividing by 2.\n",
    "\n",
    "$$Loss = \\sum_{i, j} -log \\left(\\frac{cos\\_sim(emb_i, emb_j) + 1}{2}\\right)[file_i = file_j] - log \\left(1 - \\frac{cos\\_sim(emb_i, emb_j) + 1}{2}\\right)[file_i \\neq file_j] $$"
   ]
  },
  {
   "cell_type": "code",
   "execution_count": 8,
   "metadata": {},
   "outputs": [
    {
     "data": {
      "application/vnd.jupyter.widget-view+json": {
       "model_id": "ba20c2166f6e4f4e9ef688133b87a6cb",
       "version_major": 2,
       "version_minor": 0
      },
      "text/plain": [
       "  0%|          | 0/20 [00:00<?, ?it/s]"
      ]
     },
     "metadata": {},
     "output_type": "display_data"
    },
    {
     "name": "stdout",
     "output_type": "stream",
     "text": [
      "Epoch: 0, loss: 1.2959434986114502\n",
      "Epoch: 1, loss: 2.428441047668457\n",
      "Epoch: 2, loss: 1.0212982892990112\n",
      "Epoch: 3, loss: 1.2869668006896973\n",
      "Epoch: 4, loss: 1.0333129167556763\n",
      "Epoch: 5, loss: 0.7589187622070312\n",
      "Epoch: 6, loss: 0.6807964444160461\n",
      "Epoch: 7, loss: 0.6915690302848816\n",
      "Epoch: 8, loss: 0.6822507977485657\n",
      "Epoch: 9, loss: 0.6428580284118652\n",
      "Epoch: 10, loss: 0.6005434393882751\n",
      "Epoch: 11, loss: 0.5743096470832825\n",
      "Epoch: 12, loss: 0.5654750466346741\n",
      "Epoch: 13, loss: 0.5650796294212341\n",
      "Epoch: 14, loss: 0.5630802512168884\n",
      "Epoch: 15, loss: 0.5541438460350037\n",
      "Epoch: 16, loss: 0.5389882922172546\n",
      "Epoch: 17, loss: 0.5218487977981567\n",
      "Epoch: 18, loss: 0.507061243057251\n",
      "Epoch: 19, loss: 0.4969523549079895\n"
     ]
    },
    {
     "data": {
      "image/png": "[encoded data removed]",
      "text/plain": [
       "<Figure size 640x480 with 2 Axes>"
      ]
     },
     "metadata": {},
     "output_type": "display_data"
    }
   ],
   "source": [
    "import torch\n",
    "from torch.nn.functional import cosine_similarity\n",
    "from torch.nn.functional import binary_cross_entropy\n",
    "from tqdm.notebook import tqdm\n",
    "\n",
    "opt = torch.optim.Adam(model.parameters(), lr=1e-4)\n",
    "epochs = 20\n",
    "\n",
    "for epoch in tqdm(range(epochs)):\n",
    "\n",
    "    embeddings = [\n",
    "        model(**(X[i])).last_hidden_state.mean(dim=1) for i in range(len(X))\n",
    "    ]\n",
    "\n",
    "    loss = 0\n",
    "\n",
    "    for i in range(len(embeddings)):\n",
    "        for j in range(i + 1, len(embeddings)):\n",
    "            similarity = (cosine_similarity(embeddings[i], embeddings[j]) + 1) / 2 # normalize to [0, 1]\n",
    "            # since similarity is in [0, 1], we can use binary cross entropy\n",
    "            loss += binary_cross_entropy(similarity, torch.tensor([float(y[i] == y[j])]))\n",
    "\n",
    "    loss /= len(embeddings) * (len(embeddings) - 1) / 2  # mean value\n",
    "\n",
    "    opt.zero_grad()\n",
    "    loss.backward()\n",
    "    opt.step()\n",
    "\n",
    "    print(f\"Epoch: {epoch}, loss: {loss.item()}\")\n",
    "\n",
    "show_heatmap(X, y, model)"
   ]
  },
  {
   "cell_type": "markdown",
   "metadata": {},
   "source": [
    "The first approach has a problem: files with a bigger number of methods dominate files with a smaller number of methods (we can see how the biggest 4-th file dominated others). To avoid this problem, I divide each term by the number of methods inside/outside the file."
   ]
  },
  {
   "cell_type": "code",
   "execution_count": 12,
   "metadata": {},
   "outputs": [
    {
     "name": "stderr",
     "output_type": "stream",
     "text": [
      "Special tokens have been added in the vocabulary, make sure the associated word embeddings are fine-tuned or trained.\n"
     ]
    }
   ],
   "source": [
    "from transformers import AutoTokenizer, AutoModel\n",
    "\n",
    "tokenizer = AutoTokenizer.from_pretrained(\"microsoft/CodeGPT-small-java-adaptedGPT2\")\n",
    "model = AutoModel.from_pretrained(\"microsoft/CodeGPT-small-java-adaptedGPT2\")"
   ]
  },
  {
   "cell_type": "code",
   "execution_count": 13,
   "metadata": {},
   "outputs": [
    {
     "data": {
      "application/vnd.jupyter.widget-view+json": {
       "model_id": "bc089d3d13894cb29c0f7480821d0dcf",
       "version_major": 2,
       "version_minor": 0
      },
      "text/plain": [
       "  0%|          | 0/20 [00:00<?, ?it/s]"
      ]
     },
     "metadata": {},
     "output_type": "display_data"
    },
    {
     "name": "stdout",
     "output_type": "stream",
     "text": [
      "Epoch: 0, loss: 22.087844848632812\n",
      "Epoch: 1, loss: 36.96586990356445\n",
      "Epoch: 2, loss: 18.55946922302246\n",
      "Epoch: 3, loss: 21.530128479003906\n",
      "Epoch: 4, loss: 16.39607810974121\n",
      "Epoch: 5, loss: 12.686688423156738\n",
      "Epoch: 6, loss: 11.691187858581543\n",
      "Epoch: 7, loss: 10.806463241577148\n",
      "Epoch: 8, loss: 9.766985893249512\n",
      "Epoch: 9, loss: 8.983475685119629\n",
      "Epoch: 10, loss: 8.49062728881836\n",
      "Epoch: 11, loss: 8.12218189239502\n",
      "Epoch: 12, loss: 7.763298511505127\n",
      "Epoch: 13, loss: 7.407846450805664\n",
      "Epoch: 14, loss: 7.142560958862305\n",
      "Epoch: 15, loss: 7.013399124145508\n",
      "Epoch: 16, loss: 6.9541425704956055\n",
      "Epoch: 17, loss: 6.873478889465332\n",
      "Epoch: 18, loss: 6.749717712402344\n",
      "Epoch: 19, loss: 6.622056484222412\n"
     ]
    },
    {
     "data": {
      "image/png": "[encoded data removed]",
      "text/plain": [
       "<Figure size 640x480 with 2 Axes>"
      ]
     },
     "metadata": {},
     "output_type": "display_data"
    }
   ],
   "source": [
    "opt = torch.optim.Adam(model.parameters(), lr=1e-4)\n",
    "epochs = 20\n",
    "count_same = [(y == i).sum() for i in y]\n",
    "\n",
    "for epoch in tqdm(range(epochs)):\n",
    "\n",
    "    embeddings = [\n",
    "        model(**(X[i])).last_hidden_state.mean(dim=1) for i in range(len(X))\n",
    "    ]\n",
    "\n",
    "    loss = 0\n",
    "\n",
    "    for i in range(len(embeddings)):\n",
    "        for j in range(i + 1, len(embeddings)):\n",
    "            similarity = (cosine_similarity(embeddings[i], embeddings[j]) + 1) / 2 # normalize to [0, 1]\n",
    "            # since similarity is in [0, 1], we can use binary cross entropy\n",
    "            if y[i] == y[j]:\n",
    "                loss += binary_cross_entropy(similarity, torch.ones(1)) / count_same[y[i]]\n",
    "            else:\n",
    "                loss += binary_cross_entropy(similarity, torch.zeros(1)) / (len(X) - count_same[y[i]])\n",
    "\n",
    "    opt.zero_grad()\n",
    "    loss.backward()\n",
    "    opt.step()\n",
    "\n",
    "    print(f\"Epoch: {epoch}, loss: {loss.item()}\")\n",
    "\n",
    "show_heatmap(X, y, model)"
   ]
  },
  {
   "cell_type": "markdown",
   "metadata": {},
   "source": [
    "The result is much better now - methods in the smaller files are closer now than in the previous case."
   ]
  },
  {
   "cell_type": "code",
   "execution_count": 16,
   "metadata": {},
   "outputs": [
    {
     "name": "stderr",
     "output_type": "stream",
     "text": [
      "[NbConvertApp] Converting notebook task2.ipynb to html\n",
      "[NbConvertApp] Writing 741097 bytes to task2.html\n"
     ]
    }
   ],
   "source": [
    "!jupyter nbconvert --to html task2.ipynb"
   ]
  }
 ],
 "metadata": {
  "kernelspec": {
   "display_name": "Python 3",
   "language": "python",
   "name": "python3"
  },
  "language_info": {
   "codemirror_mode": {
    "name": "ipython",
    "version": 3
   },
   "file_extension": ".py",
   "mimetype": "text/x-python",
   "name": "python",
   "nbconvert_exporter": "python",
   "pygments_lexer": "ipython3",
   "version": "3.11.4"
  },
  "orig_nbformat": 4
 },
 "nbformat": 4,
 "nbformat_minor": 2
}
