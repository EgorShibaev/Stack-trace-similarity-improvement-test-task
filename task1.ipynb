{
 "cells": [
  {
   "cell_type": "code",
   "execution_count": 1,
   "metadata": {},
   "outputs": [],
   "source": [
    "path_to_repo = \"./sample_java_repo/csc-java-course-spring-2023-key-value-store-EgorShibaev/\"\n",
    "method1_name = \"org.csc.java.spring2023.KeyValueStoreImplementation.openValueStream\"\n",
    "method2_name = \"org.csc.java.spring2023.KeyValueStoreImplementation.getIndexManager\""
   ]
  },
  {
   "cell_type": "code",
   "execution_count": 2,
   "metadata": {},
   "outputs": [],
   "source": [
    "import os\n",
    "import re\n",
    "\n",
    "def extract_method_code(repository_path, method_name):\n",
    "    \"\"\"\n",
    "    Extracts the code of the method with the given name from the repository\n",
    "    :param repository_path: path to the repository\n",
    "    :param method_name: name of the method to extract\n",
    "    :return: code of the method\n",
    "    \"\"\"\n",
    "    \n",
    "    package, class_name, method_name = method_name.rsplit(\".\", 2)\n",
    "    package_path = package.replace(\".\", os.path.sep)\n",
    "    file_path = os.path.join(repository_path, \"src\", \"main\", \"java\", package_path, f\"{class_name}.java\")\n",
    "\n",
    "    with open(file_path, \"r\") as file:\n",
    "        content = file.read()\n",
    "\n",
    "    method_code = extract_method_code_from_content(content, method_name)\n",
    "    return method_code\n",
    "\n",
    "def extract_method_code_from_content(java_code, method_name):\n",
    "    \"\"\"\n",
    "    Extracts the code of the method with the given name from the Java code\n",
    "    :param java_code: Java code\n",
    "    :param method_name: name of the method to extract\n",
    "    :return: code of the method\n",
    "    \"\"\"\n",
    "\n",
    "    method_pattern = re.compile(rf\"\\n\\s*(\\w+\\s+)*{method_name}\\s*\\([^\\)]*\\)(\\s*throws\\s+[\\w,]+)?\\s*\\{{\")\n",
    "\n",
    "\n",
    "    match = method_pattern.search(java_code)\n",
    "    if not match:\n",
    "        raise ValueError(f\"Method {method_name} not found in the Java code\")\n",
    "\n",
    "    open_braces = 0\n",
    "    method_start = match.start()\n",
    "    method_end = -1\n",
    "\n",
    "    for i in range(method_start, len(java_code)):\n",
    "        if java_code[i] == \"{\":\n",
    "            open_braces += 1\n",
    "        elif java_code[i] == \"}\":\n",
    "            open_braces -= 1\n",
    "            if open_braces == 0:\n",
    "                method_end = i + 1\n",
    "                break\n",
    "\n",
    "    if method_end == -1:\n",
    "        raise ValueError(f\"Method {method_name} code extraction failed\")\n",
    "\n",
    "    return java_code[method_start:method_end]"
   ]
  },
  {
   "cell_type": "code",
   "execution_count": 3,
   "metadata": {},
   "outputs": [],
   "source": [
    "method1_code = extract_method_code(path_to_repo, method1_name)\n",
    "method2_code = extract_method_code(path_to_repo, method2_name)"
   ]
  },
  {
   "cell_type": "code",
   "execution_count": 10,
   "metadata": {},
   "outputs": [
    {
     "data": {
      "text/plain": [
       "'\\n  public InputStream openValueStream(byte[] key) throws IOException {\\n    Objects.requireNonNull(key);\\n    if (!contains(key)) {\\n      throw new IOException(\"No such key in store\");\\n    }\\n    check_closed();\\n\\n\\n    var blocks = indexManager.getFileBlocksLocations(key);\\n    var stream = InputStream.nullInputStream();\\n\\n    for (var block : blocks) {\\n      stream = new SequenceInputStream(stream, valueStoreManager.openBlockStream(block));\\n    }\\n    return stream;\\n  }'"
      ]
     },
     "execution_count": 10,
     "metadata": {},
     "output_type": "execute_result"
    }
   ],
   "source": [
    "method1_code"
   ]
  },
  {
   "cell_type": "code",
   "execution_count": 11,
   "metadata": {},
   "outputs": [
    {
     "data": {
      "text/plain": [
       "'\\n  public IndexManager getIndexManager() {\\n    check_closed();\\n\\n    return indexManager;\\n  }'"
      ]
     },
     "execution_count": 11,
     "metadata": {},
     "output_type": "execute_result"
    }
   ],
   "source": [
    "method2_code"
   ]
  },
  {
   "cell_type": "code",
   "execution_count": 4,
   "metadata": {},
   "outputs": [
    {
     "name": "stderr",
     "output_type": "stream",
     "text": [
      "Special tokens have been added in the vocabulary, make sure the associated word embeddings are fine-tuned or trained.\n"
     ]
    }
   ],
   "source": [
    "from transformers import AutoTokenizer, AutoModel\n",
    "\n",
    "tokenizer = AutoTokenizer.from_pretrained(\"microsoft/CodeGPT-small-java-adaptedGPT2\")\n",
    "model = AutoModel.from_pretrained(\"microsoft/CodeGPT-small-java-adaptedGPT2\")"
   ]
  },
  {
   "cell_type": "code",
   "execution_count": 5,
   "metadata": {},
   "outputs": [],
   "source": [
    "inputs_1 = tokenizer(method1_code, return_tensors=\"pt\")\n",
    "inputs_2 = tokenizer(method2_code, return_tensors=\"pt\")"
   ]
  },
  {
   "cell_type": "code",
   "execution_count": 6,
   "metadata": {},
   "outputs": [
    {
     "name": "stdout",
     "output_type": "stream",
     "text": [
      "Similarity of two methods is 0.660\n"
     ]
    }
   ],
   "source": [
    "import torch\n",
    "\n",
    "with torch.no_grad():\n",
    "    embeddings_1 = model(**inputs_1).last_hidden_state.mean(dim=1)\n",
    "    embeddings_2 = model(**inputs_2).last_hidden_state.mean(dim=1)\n",
    "\n",
    "similarity = torch.nn.functional.cosine_similarity(embeddings_1, embeddings_2)\n",
    "\n",
    "print(f\"Similarity of two methods is {similarity.item():.3f}\")"
   ]
  },
  {
   "cell_type": "code",
   "execution_count": 7,
   "metadata": {},
   "outputs": [
    {
     "name": "stderr",
     "output_type": "stream",
     "text": [
      "[NbConvertApp] Converting notebook task1.ipynb to html\n",
      "[NbConvertApp] Writing 620613 bytes to task1.html\n"
     ]
    }
   ],
   "source": [
    "!jupyter nbconvert --to html task1.ipynb"
   ]
  }
 ],
 "metadata": {
  "kernelspec": {
   "display_name": "Python 3",
   "language": "python",
   "name": "python3"
  },
  "language_info": {
   "codemirror_mode": {
    "name": "ipython",
    "version": 3
   },
   "file_extension": ".py",
   "mimetype": "text/x-python",
   "name": "python",
   "nbconvert_exporter": "python",
   "pygments_lexer": "ipython3",
   "version": "3.11.4"
  },
  "orig_nbformat": 4
 },
 "nbformat": 4,
 "nbformat_minor": 2
}
