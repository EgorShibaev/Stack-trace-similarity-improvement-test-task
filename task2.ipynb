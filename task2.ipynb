{
 "cells": [
  {
   "cell_type": "code",
   "execution_count": 1,
   "metadata": {},
   "outputs": [],
   "source": [
    "path_to_repo = \"./sample_java_repo/csc-java-course-spring-2023-key-value-store-EgorShibaev/\""
   ]
  },
  {
   "cell_type": "code",
   "execution_count": 2,
   "metadata": {},
   "outputs": [],
   "source": [
    "import os\n",
    "import re\n",
    "\n",
    "def extract_all_methods_from_repo(path_to_repo):\n",
    "    \"\"\"\n",
    "    Extracts all methods from the file content\n",
    "    :param path_to_repo: string\n",
    "    :return: list of strings\n",
    "    \"\"\"\n",
    "\n",
    "    methods_in_repo = {}\n",
    "\n",
    "    path_to_files = os.path.join(path_to_repo, \"src\", \"main\", \"java\")\n",
    "\n",
    "    # walk through the files\n",
    "    for root, dirs, files in os.walk(path_to_files):\n",
    "        for file in files:\n",
    "            if file.endswith(\".java\"):\n",
    "                # read the file\n",
    "                with open(os.path.join(root, file), \"r\", encoding=\"utf8\") as f:\n",
    "                    file_content = f.read()\n",
    "\n",
    "                # extract all methods\n",
    "                methods = extract_all_methods_from_file(file_content)\n",
    "\n",
    "                if len(methods) > 0:\n",
    "                    methods_in_repo[file] = methods\n",
    "\n",
    "    return methods_in_repo\n",
    "\n",
    "\n",
    "def extract_all_methods_from_file(file_content):\n",
    "    \"\"\"\n",
    "    Extracts all methods from the file content\n",
    "    :param file_content: string\n",
    "    :return: list of strings\n",
    "    \"\"\"\n",
    "\n",
    "    # regex for method extraction\n",
    "    method_pattern = re.compile(r\"(public|private|protected)?\\s+\\b(?!record\\b|class\\b)[\\w<>(\\[\\])]+\\s+([^\\s]+)\\s*\\([^\\)]*\\)(\\s*throws\\s+[\\w,]+)?\\s*\\{\")\n",
    "    # extract all methods\n",
    "    matches = re.finditer(method_pattern, file_content)\n",
    "\n",
    "    result = []\n",
    "    for match in matches:\n",
    "        open_braces = 0\n",
    "        method_start = match.span()[0]\n",
    "        method_end = -1\n",
    "\n",
    "        for i in range(method_start, len(file_content)):\n",
    "            if file_content[i] == \"{\":\n",
    "                open_braces += 1\n",
    "            elif file_content[i] == \"}\":\n",
    "                open_braces -= 1\n",
    "                if open_braces == 0:\n",
    "                    method_end = i + 1\n",
    "                    break\n",
    "\n",
    "        if method_end == -1:\n",
    "            raise ValueError(f\"Method {match.group()} code extraction failed\")\n",
    "\n",
    "        result.append(file_content[method_start:method_end])\n",
    "\n",
    "    return result"
   ]
  },
  {
   "cell_type": "code",
   "execution_count": 3,
   "metadata": {},
   "outputs": [],
   "source": [
    "methods_in_files = extract_all_methods_from_repo(path_to_repo) "
   ]
  },
  {
   "cell_type": "code",
   "execution_count": 4,
   "metadata": {},
   "outputs": [
    {
     "name": "stdout",
     "output_type": "stream",
     "text": [
      "File: ByteWrapper.java\n",
      "Nuber of methods:  5\n",
      "File: FileBlockLocation.java\n",
      "Nuber of methods:  2\n",
      "File: IndexManagerImplementation.java\n",
      "Nuber of methods:  5\n",
      "File: KeyValueStoreFactory.java\n",
      "Nuber of methods:  2\n",
      "File: KeyValueStoreImplementation.java\n",
      "Nuber of methods:  9\n",
      "File: ValueStoreManagerImplementation.java\n",
      "Nuber of methods:  7\n"
     ]
    }
   ],
   "source": [
    "for file, methods in methods_in_files.items():\n",
    "    print(f\"File: {file}\")\n",
    "    print(\"Nuber of methods: \", len(methods))"
   ]
  },
  {
   "cell_type": "code",
   "execution_count": 5,
   "metadata": {},
   "outputs": [
    {
     "name": "stderr",
     "output_type": "stream",
     "text": [
      "Special tokens have been added in the vocabulary, make sure the associated word embeddings are fine-tuned or trained.\n"
     ]
    }
   ],
   "source": [
    "from transformers import AutoTokenizer, AutoModel\n",
    "\n",
    "tokenizer = AutoTokenizer.from_pretrained(\"microsoft/CodeGPT-small-java-adaptedGPT2\")\n",
    "model = AutoModel.from_pretrained(\"microsoft/CodeGPT-small-java-adaptedGPT2\")"
   ]
  },
  {
   "cell_type": "code",
   "execution_count": 6,
   "metadata": {},
   "outputs": [],
   "source": [
    "X = [tokenizer(method, return_tensors='pt') for _, methods in methods_in_files.items() for method in methods]\n",
    "y = [i for i, (_, methods) in enumerate(methods_in_files.items()) for _ in range(len(methods))]"
   ]
  },
  {
   "cell_type": "code",
   "execution_count": 7,
   "metadata": {},
   "outputs": [
    {
     "data": {
      "image/png": "[encoded data removed]",
      "text/plain": [
       "<Figure size 640x480 with 2 Axes>"
      ]
     },
     "metadata": {},
     "output_type": "display_data"
    }
   ],
   "source": [
    "from torch.nn.functional import cosine_similarity\n",
    "\n",
    "def show_heatmap(X, y, model):\n",
    "    embeddings = [\n",
    "        model(**(X[i])).last_hidden_state.mean(dim=1) for i in range(len(X))\n",
    "    ]\n",
    "\n",
    "    similarities = [\n",
    "        [cosine_similarity(emb1, emb2).item() for emb2 in embeddings] for emb1 in embeddings\n",
    "    ]\n",
    "\n",
    "    # show the similarity matrix as a heatmap\n",
    "    import seaborn as sns\n",
    "    import matplotlib.pyplot as plt\n",
    "\n",
    "    sns.heatmap(similarities, xticklabels=y, yticklabels=y)\n",
    "    plt.show()\n",
    "\n",
    "show_heatmap(X, y, model)"
   ]
  },
  {
   "cell_type": "code",
   "execution_count": 8,
   "metadata": {},
   "outputs": [
    {
     "data": {
      "application/vnd.jupyter.widget-view+json": {
       "model_id": "55f777f3aa6a45e9b6d555e3e8ee86bd",
       "version_major": 2,
       "version_minor": 0
      },
      "text/plain": [
       "  0%|          | 0/20 [00:00<?, ?it/s]"
      ]
     },
     "metadata": {},
     "output_type": "display_data"
    },
    {
     "name": "stdout",
     "output_type": "stream",
     "text": [
      "Epoch: 0, loss: 1.3307825326919556\n",
      "Epoch: 1, loss: 1.2759466171264648\n",
      "Epoch: 2, loss: 1.1624560356140137\n",
      "Epoch: 3, loss: 1.0767062902450562\n",
      "Epoch: 4, loss: 1.0472286939620972\n",
      "Epoch: 5, loss: 1.0228869915008545\n",
      "Epoch: 6, loss: 0.9876932501792908\n",
      "Epoch: 7, loss: 0.9532400369644165\n",
      "Epoch: 8, loss: 0.9296478033065796\n",
      "Epoch: 9, loss: 0.9147548675537109\n",
      "Epoch: 10, loss: 0.8999716639518738\n",
      "Epoch: 11, loss: 0.8804500102996826\n",
      "Epoch: 12, loss: 0.8579790592193604\n",
      "Epoch: 13, loss: 0.836854875087738\n",
      "Epoch: 14, loss: 0.8193376660346985\n",
      "Epoch: 15, loss: 0.8043376207351685\n",
      "Epoch: 16, loss: 0.7892301082611084\n",
      "Epoch: 17, loss: 0.7724502682685852\n",
      "Epoch: 18, loss: 0.7545594573020935\n",
      "Epoch: 19, loss: 0.7373220920562744\n"
     ]
    }
   ],
   "source": [
    "import torch\n",
    "from torch.nn.functional import cosine_similarity\n",
    "from torch.nn.functional import binary_cross_entropy\n",
    "from tqdm.notebook import tqdm\n",
    "\n",
    "opt = torch.optim.Adam(model.parameters(), lr=1e-5)\n",
    "epochs = 20\n",
    "\n",
    "for epoch in tqdm(range(epochs)):\n",
    "\n",
    "    embeddings = [\n",
    "        model(**(X[i])).last_hidden_state.mean(dim=1) for i in range(len(X))\n",
    "    ]\n",
    "\n",
    "    loss = 0\n",
    "\n",
    "    for i in range(len(embeddings)):\n",
    "        for j in range(i + 1, len(embeddings)):\n",
    "            similarity = (cosine_similarity(embeddings[i], embeddings[j]) + 1) / 2 # normalize to [0, 1]\n",
    "            # since similarity is in [0, 1], we can use binary cross entropy\n",
    "            loss += binary_cross_entropy(similarity, torch.tensor([float(y[i] == y[j])]))\n",
    "\n",
    "    loss /= len(embeddings) * (len(embeddings) - 1) / 2  # mean value\n",
    "\n",
    "    opt.zero_grad()\n",
    "    loss.backward()\n",
    "    opt.step()\n",
    "\n",
    "    print(f\"Epoch: {epoch}, loss: {loss.item()}\")"
   ]
  },
  {
   "cell_type": "code",
   "execution_count": 9,
   "metadata": {},
   "outputs": [
    {
     "data": {
      "image/png": "[encoded data removed]",
      "text/plain": [
       "<Figure size 640x480 with 2 Axes>"
      ]
     },
     "metadata": {},
     "output_type": "display_data"
    }
   ],
   "source": [
    "show_heatmap(X, y, model)"
   ]
  },
  {
   "cell_type": "markdown",
   "metadata": {},
   "source": [
    "We can see that, at average, similarity between methods in one file increased and similarity between methods in different files decreased. "
   ]
  },
  {
   "cell_type": "code",
   "execution_count": 10,
   "metadata": {},
   "outputs": [
    {
     "name": "stderr",
     "output_type": "stream",
     "text": [
      "[NbConvertApp] Converting notebook task2.ipynb to html\n",
      "[NbConvertApp] Writing 678161 bytes to task2.html\n"
     ]
    }
   ],
   "source": [
    "!jupyter nbconvert --to html task2.ipynb"
   ]
  }
 ],
 "metadata": {
  "kernelspec": {
   "display_name": "Python 3",
   "language": "python",
   "name": "python3"
  },
  "language_info": {
   "codemirror_mode": {
    "name": "ipython",
    "version": 3
   },
   "file_extension": ".py",
   "mimetype": "text/x-python",
   "name": "python",
   "nbconvert_exporter": "python",
   "pygments_lexer": "ipython3",
   "version": "3.11.4"
  },
  "orig_nbformat": 4
 },
 "nbformat": 4,
 "nbformat_minor": 2
}
